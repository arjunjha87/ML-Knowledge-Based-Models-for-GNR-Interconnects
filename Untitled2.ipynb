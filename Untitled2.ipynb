{
  "nbformat": 4,
  "nbformat_minor": 0,
  "metadata": {
    "colab": {
      "name": "Untitled2.ipynb",
      "provenance": []
    },
    "kernelspec": {
      "name": "python3",
      "display_name": "Python 3"
    },
    "language_info": {
      "name": "python"
    }
  },
  "cells": [
    {
      "cell_type": "code",
      "execution_count": null,
      "metadata": {
        "id": "yiY61Yine_oF"
      },
      "outputs": [],
      "source": [
        "import pandas as pd\n",
        "import numpy as np\n",
        "import matplotlib.pyplot as plt\n",
        "from sklearn.linear_model import LinearRegression"
      ]
    },
    {
      "cell_type": "code",
      "source": [
        "x1 = np.array([10,20,2,5,15,12,9,30,25])\n",
        "y1 = np.array([2.40,4.80,0.48,1.20,3.60,2.88,2.16,7.20,6.00])\n",
        "x2 = np.array([10,20,2,5,15,12,9,30,25])\n",
        "y2 = np.array([4.80,9.60,0.96,2.40,7.20,5.76,4.32,14.40,12.00])\n",
        "x3 = np.array([10,20,2,5,15,12,9,30,25])\n",
        "y3 = np.array([7.22,14.40,1.47,3.63,10.80,8.65,6.50,21.60,18.00])"
      ],
      "metadata": {
        "id": "D4Jtp04rfEdl"
      },
      "execution_count": null,
      "outputs": []
    },
    {
      "cell_type": "code",
      "source": [
        "linreg1 = LinearRegression()\n",
        "linreg2 = LinearRegression()\n",
        "linreg3 = LinearRegression()"
      ],
      "metadata": {
        "id": "43eE_pSeh0ue"
      },
      "execution_count": null,
      "outputs": []
    },
    {
      "cell_type": "code",
      "metadata": {
        "id": "k1TsDOQNTxAh"
      },
      "source": [
        "x1 = x1.reshape(-1, 1)\n",
        "x2 = x2.reshape(-1, 1)\n",
        "x3 = x3.reshape(-1, 1)"
      ],
      "execution_count": null,
      "outputs": []
    },
    {
      "cell_type": "code",
      "source": [
        "linreg1.fit(x1, y1)\n",
        "linreg2.fit(x2, y2)\n",
        "linreg3.fit(x3, y3)"
      ],
      "metadata": {
        "colab": {
          "base_uri": "https://localhost:8080/"
        },
        "id": "HdnLg5YAh_gW",
        "outputId": "46d04aae-908f-485b-8605-944e07d3a664"
      },
      "execution_count": null,
      "outputs": [
        {
          "output_type": "execute_result",
          "data": {
            "text/plain": [
              "LinearRegression()"
            ]
          },
          "metadata": {},
          "execution_count": 33
        }
      ]
    },
    {
      "cell_type": "code",
      "source": [
        "y_pred1 = linreg1.predict(x1)\n",
        "y_pred2 = linreg2.predict(x2)\n",
        "y_pred3 = linreg3.predict(x3)"
      ],
      "metadata": {
        "id": "c_t_8Z34iC2W"
      },
      "execution_count": null,
      "outputs": []
    },
    {
      "cell_type": "code",
      "source": [
        "plt.xlabel('width (in nm)')\n",
        "plt.ylabel('N-ch(Number of channels)')\n",
        "plt.scatter(x1,y1)\n",
        "plt.scatter(x2,y2)\n",
        "plt.scatter(x3,y3)\n",
        "\n",
        "plt.plot(x1, y_pred1, color='red')\n",
        "plt.plot(x2, y_pred2, color='blue')\n",
        "plt.plot(x3, y_pred3, color='green')\n",
        "\n",
        "plt.show()"
      ],
      "metadata": {
        "colab": {
          "base_uri": "https://localhost:8080/",
          "height": 279
        },
        "id": "TjjIQWB4iJhO",
        "outputId": "baf934f0-19e7-451a-ec57-d474231fd48a"
      },
      "execution_count": null,
      "outputs": [
        {
          "output_type": "display_data",
          "data": {
            "image/png": "[encoded data removed]",
            "text/plain": [
              "<Figure size 432x288 with 1 Axes>"
            ]
          },
          "metadata": {
            "needs_background": "light"
          }
        }
      ]
    }
  ]
}