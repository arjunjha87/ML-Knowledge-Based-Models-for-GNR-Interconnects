{
  "nbformat": 4,
  "nbformat_minor": 0,
  "metadata": {
    "colab": {
      "name": "Untitled1.ipynb",
      "provenance": []
    },
    "kernelspec": {
      "name": "python3",
      "display_name": "Python 3"
    },
    "language_info": {
      "name": "python"
    }
  },
  "cells": [
    {
      "cell_type": "code",
      "metadata": {
        "id": "3avPetatSfNY"
      },
      "source": [
        "import pandas as pd\n",
        "import numpy as np\n",
        "import matplotlib.pyplot as plt\n",
        "from sklearn.linear_model import LinearRegression"
      ],
      "execution_count": null,
      "outputs": []
    },
    {
      "cell_type": "code",
      "metadata": {
        "id": "Bv8PcebiWAll"
      },
      "source": [
        ""
      ],
      "execution_count": null,
      "outputs": []
    },
    {
      "cell_type": "code",
      "metadata": {
        "id": "gqgffYRaSwlG"
      },
      "source": [
        "x = np.array([24,26,47,20,30,40,50,10,9,8,7,6,0.1,5,0.3,22,0.5,0.6,0.7,0.8,0.9,1,1.5,0.2,0.4,48,49,46,31,33,35,37,39])\n",
        "y = np.array([70,76,138,59,89,118,148,30,27,24,21,18,1,15,1,65,2,2,3,3,3,3,5,1,2,142,145,136,92,98,103,109,115])"
      ],
      "execution_count": null,
      "outputs": []
    },
    {
      "cell_type": "code",
      "metadata": {
        "id": "4hUcMx74S1zn"
      },
      "source": [
        "linreg = LinearRegression()"
      ],
      "execution_count": null,
      "outputs": []
    },
    {
      "cell_type": "code",
      "metadata": {
        "id": "k1TsDOQNTxAh"
      },
      "source": [
        "x = x.reshape(-1, 1)"
      ],
      "execution_count": null,
      "outputs": []
    },
    {
      "cell_type": "code",
      "metadata": {
        "colab": {
          "base_uri": "https://localhost:8080/"
        },
        "id": "_okPAEobT1wY",
        "outputId": "6c0c14d0-31af-4b83-b9a1-c8cf3f867df6"
      },
      "source": [
        "linreg.fit(x, y)"
      ],
      "execution_count": null,
      "outputs": [
        {
          "output_type": "execute_result",
          "data": {
            "text/plain": [
              "LinearRegression()"
            ]
          },
          "metadata": {},
          "execution_count": 6
        }
      ]
    },
    {
      "cell_type": "code",
      "metadata": {
        "id": "pI2AKpBqT6dH"
      },
      "source": [
        "y_pred = linreg.predict(x)"
      ],
      "execution_count": null,
      "outputs": []
    },
    {
      "cell_type": "code",
      "metadata": {
        "colab": {
          "base_uri": "https://localhost:8080/",
          "height": 279
        },
        "id": "euQGCv-dVP7q",
        "outputId": "1958e32f-d01f-4ef9-f0d0-e029d2d45014"
      },
      "source": [
        "plt.xlabel('t(thickness)')\n",
        "plt.ylabel('N-layer(Number of layers)')\n",
        "plt.scatter(x,y)\n",
        "plt.plot(x, y_pred, color='red')\n",
        "plt.show()"
      ],
      "execution_count": null,
      "outputs": [
        {
          "output_type": "display_data",
          "data": {
            "image/png": "[encoded data removed]",
            "text/plain": [
              "<Figure size 432x288 with 1 Axes>"
            ]
          },
          "metadata": {
            "needs_background": "light"
          }
        }
      ]
    }
  ]
}