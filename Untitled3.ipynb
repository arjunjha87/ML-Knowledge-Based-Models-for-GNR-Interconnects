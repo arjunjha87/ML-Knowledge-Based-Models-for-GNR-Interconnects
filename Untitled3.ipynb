{
  "nbformat": 4,
  "nbformat_minor": 0,
  "metadata": {
    "colab": {
      "name": "Untitled3.ipynb",
      "provenance": []
    },
    "kernelspec": {
      "name": "python3",
      "display_name": "Python 3"
    },
    "language_info": {
      "name": "python"
    }
  },
  "cells": [
    {
      "cell_type": "code",
      "execution_count": null,
      "metadata": {
        "id": "4dmZgC-rR_fb"
      },
      "outputs": [],
      "source": [
        "import pandas as pd\n",
        "import numpy as np\n",
        "import matplotlib.pyplot as plt\n",
        "from sklearn.linear_model import LinearRegression"
      ]
    },
    {
      "cell_type": "code",
      "source": [
        "x1 = np.array([0.2,0.3,0.4,0.5,0.6])\n",
        "y1 = np.array([1.68, 2.52, 3.36, 4.2, 5.04])\n",
        "x2 = np.array([0.2,0.3,0.4,0.5,0.6])\n",
        "y2 = np.array([2.4, 3.6, 4.8, 6.0, 7.2])\n",
        "x3 = np.array([0.2,0.3,0.4,0.5,0.6])\n",
        "y3 = np.array([3.12, 4.68, 6.24, 7.8, 9.36])\n",
        "x4 = np.array([0.2,0.3,0.4,0.5,0.6])\n",
        "y4 = np.array([4.8, 7.2, 9.6, 12.0, 14.4])\n"
      ],
      "metadata": {
        "id": "7FdF9nrdYGts"
      },
      "execution_count": null,
      "outputs": []
    },
    {
      "cell_type": "code",
      "source": [
        "linreg1 = LinearRegression()\n",
        "linreg2 = LinearRegression()\n",
        "linreg3 = LinearRegression()\n",
        "linreg4 = LinearRegression()"
      ],
      "metadata": {
        "id": "j06iZGZzYMXl"
      },
      "execution_count": null,
      "outputs": []
    },
    {
      "cell_type": "code",
      "source": [
        "x1 = x1.reshape(-1, 1)\n",
        "x2 = x2.reshape(-1, 1)\n",
        "x3 = x3.reshape(-1, 1)\n",
        "x4 = x4.reshape(-1, 1)"
      ],
      "metadata": {
        "id": "CpkFXlUMYRgu"
      },
      "execution_count": null,
      "outputs": []
    },
    {
      "cell_type": "code",
      "source": [
        "linreg1.fit(x1, y1)\n",
        "linreg2.fit(x2, y2)\n",
        "linreg3.fit(x3, y3)\n",
        "linreg4.fit(x4, y4)"
      ],
      "metadata": {
        "colab": {
          "base_uri": "https://localhost:8080/"
        },
        "id": "qrD2dEYMYSRz",
        "outputId": "e2f9ea56-cc88-44fd-813f-a645f351f3e9"
      },
      "execution_count": null,
      "outputs": [
        {
          "output_type": "execute_result",
          "data": {
            "text/plain": [
              "LinearRegression()"
            ]
          },
          "metadata": {},
          "execution_count": 8
        }
      ]
    },
    {
      "cell_type": "code",
      "source": [
        "y_pred1 = linreg1.predict(x1)\n",
        "y_pred2 = linreg2.predict(x2)\n",
        "y_pred3 = linreg3.predict(x3)\n",
        "y_pred4 = linreg4.predict(x4)"
      ],
      "metadata": {
        "id": "rF50WNRgYUht"
      },
      "execution_count": null,
      "outputs": []
    },
    {
      "cell_type": "code",
      "source": [
        "plt.xlabel('E-fermi (Fermi Energy level in eV)')\n",
        "plt.ylabel('N-ch(Number of conducting channels)')\n",
        "plt.scatter(x1,y1)\n",
        "plt.scatter(x2,y2)\n",
        "plt.scatter(x3,y3)\n",
        "plt.scatter(x4,y4)\n",
        "\n",
        "plt.plot(x1, y_pred1, color='red')\n",
        "plt.plot(x2, y_pred2, color='blue')\n",
        "plt.plot(x3, y_pred3, color='green')\n",
        "plt.plot(x4, y_pred4, color='purple')\n",
        "\n",
        "plt.show()"
      ],
      "metadata": {
        "colab": {
          "base_uri": "https://localhost:8080/",
          "height": 279
        },
        "id": "F5V2HNfKYWo7",
        "outputId": "c6ea0794-cb72-4636-f8f7-d4a2dd2ae6c3"
      },
      "execution_count": null,
      "outputs": [
        {
          "output_type": "display_data",
          "data": {
            "image/png": "[encoded data removed]",
            "text/plain": [
              "<Figure size 432x288 with 1 Axes>"
            ]
          },
          "metadata": {
            "needs_background": "light"
          }
        }
      ]
    }
  ]
}